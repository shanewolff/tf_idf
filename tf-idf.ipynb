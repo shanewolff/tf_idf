{
 "cells": [
  {
   "cell_type": "markdown",
   "metadata": {},
   "source": [
    "# TF-IDF Exercise"
   ]
  },
  {
   "cell_type": "markdown",
   "metadata": {},
   "source": [
    "## Index Number"
   ]
  },
  {
   "cell_type": "code",
   "execution_count": 26,
   "metadata": {},
   "outputs": [],
   "source": [
    "# Set your index number here\n",
    "admission_no = '140701M'"
   ]
  },
  {
   "cell_type": "markdown",
   "metadata": {},
   "source": [
    "## Imports"
   ]
  },
  {
   "cell_type": "code",
   "execution_count": 27,
   "metadata": {},
   "outputs": [],
   "source": [
    "from nltk import wordpunct_tokenize\n",
    "from nltk.corpus import stopwords\n",
    "from math import log\n",
    "import pandas as pd"
   ]
  },
  {
   "cell_type": "markdown",
   "metadata": {},
   "source": [
    "## Reading documents"
   ]
  },
  {
   "cell_type": "code",
   "execution_count": 28,
   "metadata": {},
   "outputs": [],
   "source": [
    "files = []\n",
    "for i in range(1, 4):\n",
    "    file = open('document/document' + str(i) + '.txt', 'r')\n",
    "    files.append(file)"
   ]
  },
  {
   "cell_type": "markdown",
   "metadata": {},
   "source": [
    "## Raw Tokens\n",
    "1. Splitting into tokens by whitespaces"
   ]
  },
  {
   "cell_type": "code",
   "execution_count": 29,
   "metadata": {},
   "outputs": [],
   "source": [
    "raw_token_set = []\n",
    "for i in range(3):\n",
    "    tokens = wordpunct_tokenize(files[i].read())\n",
    "    raw_token_set.append(tokens)"
   ]
  },
  {
   "cell_type": "markdown",
   "metadata": {},
   "source": [
    "2. Change all tokens into lowercase for accurate token comparison"
   ]
  },
  {
   "cell_type": "code",
   "execution_count": 30,
   "metadata": {},
   "outputs": [],
   "source": [
    "processed_token_set = []\n",
    "for i in range(3):\n",
    "    processed_tokens = []\n",
    "    for token in raw_token_set[i]:\n",
    "        processed_tokens.append(token.lower())\n",
    "    processed_token_set.append(processed_tokens)"
   ]
  },
  {
   "cell_type": "markdown",
   "metadata": {},
   "source": [
    "## Terms\n",
    "* Removing duplicate tokens"
   ]
  },
  {
   "cell_type": "code",
   "execution_count": 31,
   "metadata": {},
   "outputs": [],
   "source": [
    "terms = []\n",
    "for i in range(3):\n",
    "    terms.append(sorted(list(set(processed_token_set[i]))))"
   ]
  },
  {
   "cell_type": "markdown",
   "metadata": {},
   "source": [
    "* Accumulating all terms in all documents by removing duplicates"
   ]
  },
  {
   "cell_type": "code",
   "execution_count": 32,
   "metadata": {},
   "outputs": [],
   "source": [
    "collection_terms = []\n",
    "for i in range(3):\n",
    "    collection_terms += terms[i]\n",
    "collection_terms = sorted(list(set(collection_terms)))"
   ]
  },
  {
   "cell_type": "markdown",
   "metadata": {},
   "source": [
    "## Statistical Calculations\n",
    "1. Raw term frequencies and weighted log term frequencies"
   ]
  },
  {
   "cell_type": "code",
   "execution_count": 33,
   "metadata": {},
   "outputs": [],
   "source": [
    "raw_tf = []\n",
    "weighted_tf = []\n",
    "for i in range(3):\n",
    "    raw_frequency = []\n",
    "    weighted_frequency = []\n",
    "    for term in collection_terms:\n",
    "        raw_count = processed_token_set[i].count(term)\n",
    "        if(raw_count != 0):\n",
    "            weighted_count = 1 + log(raw_count, 10)\n",
    "        else:\n",
    "            weighted_count = 0\n",
    "        raw_frequency.append(raw_count)\n",
    "        weighted_frequency.append(weighted_count)\n",
    "    raw_tf.append(raw_frequency)\n",
    "    weighted_tf.append(weighted_frequency)"
   ]
  },
  {
   "cell_type": "markdown",
   "metadata": {},
   "source": [
    "2. Document frequencies and inverted document frequencies"
   ]
  },
  {
   "cell_type": "code",
   "execution_count": 34,
   "metadata": {
    "scrolled": false
   },
   "outputs": [],
   "source": [
    "doc_freq = []\n",
    "invtd_doc_freq = []\n",
    "for term in collection_terms:\n",
    "    doc_count = 0;\n",
    "    for i in range(3):\n",
    "        if(term in terms[i]):\n",
    "            doc_count += 1\n",
    "    doc_freq.append(doc_count)\n",
    "    invtd_doc_freq.append(log(3/doc_count, 10))"
   ]
  },
  {
   "cell_type": "markdown",
   "metadata": {},
   "source": [
    "3. TF-IDF scores"
   ]
  },
  {
   "cell_type": "code",
   "execution_count": 35,
   "metadata": {},
   "outputs": [],
   "source": [
    "tf_idf_scores = []\n",
    "for i in range(3):\n",
    "    tf_idf_score = []\n",
    "    for j in range(len(collection_terms)):\n",
    "        word = collection_terms[j]\n",
    "        tf = weighted_tf[i][j]\n",
    "        idf = invtd_doc_freq[j]\n",
    "        tf_idf = tf*idf\n",
    "        tf_idf_score.append(tf_idf)\n",
    "    tf_idf_scores.append(tf_idf_score)"
   ]
  },
  {
   "cell_type": "markdown",
   "metadata": {},
   "source": [
    "## Summarizing into a Dataframe\n",
    "1. Create separate dataframes for each vocabulary"
   ]
  },
  {
   "cell_type": "code",
   "execution_count": 36,
   "metadata": {},
   "outputs": [],
   "source": [
    "collection_stat = []\n",
    "for i in range(3):\n",
    "    collection_stat.append(pd.DataFrame({'term': collection_terms,\n",
    "                                         'raw_term_frequnecy': raw_tf[i],\n",
    "                                         'weighted_log_frequency': weighted_tf[i],\n",
    "                                         'document_frequency': doc_freq,\n",
    "                                         'inverse_document_frequency': invtd_doc_freq,\n",
    "                                         'tf_idf_score': tf_idf_scores[i]}))"
   ]
  },
  {
   "cell_type": "markdown",
   "metadata": {},
   "source": [
    "2. Removing all non occuring terms in each document"
   ]
  },
  {
   "cell_type": "code",
   "execution_count": 37,
   "metadata": {},
   "outputs": [],
   "source": [
    "for i in range(3):\n",
    "    collection_stat[i] = collection_stat[i][collection_stat[i].raw_term_frequnecy != 0]"
   ]
  },
  {
   "cell_type": "markdown",
   "metadata": {},
   "source": [
    "### Document 1 - Summary"
   ]
  },
  {
   "cell_type": "code",
   "execution_count": 38,
   "metadata": {
    "scrolled": true
   },
   "outputs": [
    {
     "data": {
      "text/html": [
       "<div>\n",
       "<style scoped>\n",
       "    .dataframe tbody tr th:only-of-type {\n",
       "        vertical-align: middle;\n",
       "    }\n",
       "\n",
       "    .dataframe tbody tr th {\n",
       "        vertical-align: top;\n",
       "    }\n",
       "\n",
       "    .dataframe thead th {\n",
       "        text-align: right;\n",
       "    }\n",
       "</style>\n",
       "<table border=\"1\" class=\"dataframe\">\n",
       "  <thead>\n",
       "    <tr style=\"text-align: right;\">\n",
       "      <th></th>\n",
       "      <th>term</th>\n",
       "      <th>raw_term_frequnecy</th>\n",
       "      <th>weighted_log_frequency</th>\n",
       "      <th>document_frequency</th>\n",
       "      <th>inverse_document_frequency</th>\n",
       "      <th>tf_idf_score</th>\n",
       "    </tr>\n",
       "  </thead>\n",
       "  <tbody>\n",
       "    <tr>\n",
       "      <th>3</th>\n",
       "      <td>abide</td>\n",
       "      <td>1</td>\n",
       "      <td>1.000000</td>\n",
       "      <td>2</td>\n",
       "      <td>0.176091</td>\n",
       "      <td>0.176091</td>\n",
       "    </tr>\n",
       "    <tr>\n",
       "      <th>4</th>\n",
       "      <td>ability</td>\n",
       "      <td>11</td>\n",
       "      <td>2.041393</td>\n",
       "      <td>3</td>\n",
       "      <td>0.000000</td>\n",
       "      <td>0.000000</td>\n",
       "    </tr>\n",
       "    <tr>\n",
       "      <th>5</th>\n",
       "      <td>able</td>\n",
       "      <td>2</td>\n",
       "      <td>1.301030</td>\n",
       "      <td>3</td>\n",
       "      <td>0.000000</td>\n",
       "      <td>0.000000</td>\n",
       "    </tr>\n",
       "    <tr>\n",
       "      <th>6</th>\n",
       "      <td>abolition</td>\n",
       "      <td>1</td>\n",
       "      <td>1.000000</td>\n",
       "      <td>1</td>\n",
       "      <td>0.477121</td>\n",
       "      <td>0.477121</td>\n",
       "    </tr>\n",
       "    <tr>\n",
       "      <th>8</th>\n",
       "      <td>about</td>\n",
       "      <td>14</td>\n",
       "      <td>2.146128</td>\n",
       "      <td>3</td>\n",
       "      <td>0.000000</td>\n",
       "      <td>0.000000</td>\n",
       "    </tr>\n",
       "  </tbody>\n",
       "</table>\n",
       "</div>"
      ],
      "text/plain": [
       "        term  raw_term_frequnecy  weighted_log_frequency  document_frequency  \\\n",
       "3      abide                   1                1.000000                   2   \n",
       "4    ability                  11                2.041393                   3   \n",
       "5       able                   2                1.301030                   3   \n",
       "6  abolition                   1                1.000000                   1   \n",
       "8      about                  14                2.146128                   3   \n",
       "\n",
       "   inverse_document_frequency  tf_idf_score  \n",
       "3                    0.176091      0.176091  \n",
       "4                    0.000000      0.000000  \n",
       "5                    0.000000      0.000000  \n",
       "6                    0.477121      0.477121  \n",
       "8                    0.000000      0.000000  "
      ]
     },
     "execution_count": 38,
     "metadata": {},
     "output_type": "execute_result"
    }
   ],
   "source": [
    "collection_stat[0].head()"
   ]
  },
  {
   "cell_type": "markdown",
   "metadata": {},
   "source": [
    "### Document 2 - Summary"
   ]
  },
  {
   "cell_type": "code",
   "execution_count": 39,
   "metadata": {
    "scrolled": false
   },
   "outputs": [
    {
     "data": {
      "text/html": [
       "<div>\n",
       "<style scoped>\n",
       "    .dataframe tbody tr th:only-of-type {\n",
       "        vertical-align: middle;\n",
       "    }\n",
       "\n",
       "    .dataframe tbody tr th {\n",
       "        vertical-align: top;\n",
       "    }\n",
       "\n",
       "    .dataframe thead th {\n",
       "        text-align: right;\n",
       "    }\n",
       "</style>\n",
       "<table border=\"1\" class=\"dataframe\">\n",
       "  <thead>\n",
       "    <tr style=\"text-align: right;\">\n",
       "      <th></th>\n",
       "      <th>term</th>\n",
       "      <th>raw_term_frequnecy</th>\n",
       "      <th>weighted_log_frequency</th>\n",
       "      <th>document_frequency</th>\n",
       "      <th>inverse_document_frequency</th>\n",
       "      <th>tf_idf_score</th>\n",
       "    </tr>\n",
       "  </thead>\n",
       "  <tbody>\n",
       "    <tr>\n",
       "      <th>1</th>\n",
       "      <td>abandon</td>\n",
       "      <td>1</td>\n",
       "      <td>1.000000</td>\n",
       "      <td>1</td>\n",
       "      <td>0.477121</td>\n",
       "      <td>0.477121</td>\n",
       "    </tr>\n",
       "    <tr>\n",
       "      <th>2</th>\n",
       "      <td>abdicate</td>\n",
       "      <td>2</td>\n",
       "      <td>1.301030</td>\n",
       "      <td>1</td>\n",
       "      <td>0.477121</td>\n",
       "      <td>0.620749</td>\n",
       "    </tr>\n",
       "    <tr>\n",
       "      <th>4</th>\n",
       "      <td>ability</td>\n",
       "      <td>3</td>\n",
       "      <td>1.477121</td>\n",
       "      <td>3</td>\n",
       "      <td>0.000000</td>\n",
       "      <td>0.000000</td>\n",
       "    </tr>\n",
       "    <tr>\n",
       "      <th>5</th>\n",
       "      <td>able</td>\n",
       "      <td>2</td>\n",
       "      <td>1.301030</td>\n",
       "      <td>3</td>\n",
       "      <td>0.000000</td>\n",
       "      <td>0.000000</td>\n",
       "    </tr>\n",
       "    <tr>\n",
       "      <th>8</th>\n",
       "      <td>about</td>\n",
       "      <td>3</td>\n",
       "      <td>1.477121</td>\n",
       "      <td>3</td>\n",
       "      <td>0.000000</td>\n",
       "      <td>0.000000</td>\n",
       "    </tr>\n",
       "  </tbody>\n",
       "</table>\n",
       "</div>"
      ],
      "text/plain": [
       "       term  raw_term_frequnecy  weighted_log_frequency  document_frequency  \\\n",
       "1   abandon                   1                1.000000                   1   \n",
       "2  abdicate                   2                1.301030                   1   \n",
       "4   ability                   3                1.477121                   3   \n",
       "5      able                   2                1.301030                   3   \n",
       "8     about                   3                1.477121                   3   \n",
       "\n",
       "   inverse_document_frequency  tf_idf_score  \n",
       "1                    0.477121      0.477121  \n",
       "2                    0.477121      0.620749  \n",
       "4                    0.000000      0.000000  \n",
       "5                    0.000000      0.000000  \n",
       "8                    0.000000      0.000000  "
      ]
     },
     "execution_count": 39,
     "metadata": {},
     "output_type": "execute_result"
    }
   ],
   "source": [
    "collection_stat[1].head()"
   ]
  },
  {
   "cell_type": "markdown",
   "metadata": {},
   "source": [
    "### Document 3 - Summary"
   ]
  },
  {
   "cell_type": "code",
   "execution_count": 40,
   "metadata": {},
   "outputs": [
    {
     "data": {
      "text/html": [
       "<div>\n",
       "<style scoped>\n",
       "    .dataframe tbody tr th:only-of-type {\n",
       "        vertical-align: middle;\n",
       "    }\n",
       "\n",
       "    .dataframe tbody tr th {\n",
       "        vertical-align: top;\n",
       "    }\n",
       "\n",
       "    .dataframe thead th {\n",
       "        text-align: right;\n",
       "    }\n",
       "</style>\n",
       "<table border=\"1\" class=\"dataframe\">\n",
       "  <thead>\n",
       "    <tr style=\"text-align: right;\">\n",
       "      <th></th>\n",
       "      <th>term</th>\n",
       "      <th>raw_term_frequnecy</th>\n",
       "      <th>weighted_log_frequency</th>\n",
       "      <th>document_frequency</th>\n",
       "      <th>inverse_document_frequency</th>\n",
       "      <th>tf_idf_score</th>\n",
       "    </tr>\n",
       "  </thead>\n",
       "  <tbody>\n",
       "    <tr>\n",
       "      <th>0</th>\n",
       "      <td>aapd</td>\n",
       "      <td>4</td>\n",
       "      <td>1.602060</td>\n",
       "      <td>1</td>\n",
       "      <td>0.477121</td>\n",
       "      <td>0.764377</td>\n",
       "    </tr>\n",
       "    <tr>\n",
       "      <th>3</th>\n",
       "      <td>abide</td>\n",
       "      <td>1</td>\n",
       "      <td>1.000000</td>\n",
       "      <td>2</td>\n",
       "      <td>0.176091</td>\n",
       "      <td>0.176091</td>\n",
       "    </tr>\n",
       "    <tr>\n",
       "      <th>4</th>\n",
       "      <td>ability</td>\n",
       "      <td>6</td>\n",
       "      <td>1.778151</td>\n",
       "      <td>3</td>\n",
       "      <td>0.000000</td>\n",
       "      <td>0.000000</td>\n",
       "    </tr>\n",
       "    <tr>\n",
       "      <th>5</th>\n",
       "      <td>able</td>\n",
       "      <td>3</td>\n",
       "      <td>1.477121</td>\n",
       "      <td>3</td>\n",
       "      <td>0.000000</td>\n",
       "      <td>0.000000</td>\n",
       "    </tr>\n",
       "    <tr>\n",
       "      <th>7</th>\n",
       "      <td>abortion</td>\n",
       "      <td>19</td>\n",
       "      <td>2.278754</td>\n",
       "      <td>1</td>\n",
       "      <td>0.477121</td>\n",
       "      <td>1.087242</td>\n",
       "    </tr>\n",
       "  </tbody>\n",
       "</table>\n",
       "</div>"
      ],
      "text/plain": [
       "       term  raw_term_frequnecy  weighted_log_frequency  document_frequency  \\\n",
       "0      aapd                   4                1.602060                   1   \n",
       "3     abide                   1                1.000000                   2   \n",
       "4   ability                   6                1.778151                   3   \n",
       "5      able                   3                1.477121                   3   \n",
       "7  abortion                  19                2.278754                   1   \n",
       "\n",
       "   inverse_document_frequency  tf_idf_score  \n",
       "0                    0.477121      0.764377  \n",
       "3                    0.176091      0.176091  \n",
       "4                    0.000000      0.000000  \n",
       "5                    0.000000      0.000000  \n",
       "7                    0.477121      1.087242  "
      ]
     },
     "execution_count": 40,
     "metadata": {},
     "output_type": "execute_result"
    }
   ],
   "source": [
    "collection_stat[2].head()"
   ]
  },
  {
   "cell_type": "markdown",
   "metadata": {},
   "source": [
    "## Answers\n",
    "### Question 1\n",
    "Find the vocabulary size  for given documents."
   ]
  },
  {
   "cell_type": "code",
   "execution_count": 41,
   "metadata": {},
   "outputs": [
    {
     "name": "stdout",
     "output_type": "stream",
     "text": [
      "document1:2401\n",
      "document2:2287\n",
      "document3:2322\n"
     ]
    }
   ],
   "source": [
    "answer1 = ''\n",
    "for i in range(3):\n",
    "    answer = 'document%d:%d' % (i + 1, collection_stat[i].shape[0])\n",
    "    print(answer)\n",
    "    if(i < 2):\n",
    "        answer1 += answer + '\\n'\n",
    "    else:\n",
    "        answer1 += answer"
   ]
  },
  {
   "cell_type": "markdown",
   "metadata": {},
   "source": [
    "### Question 2\n",
    "Find the TF value for all alphabetically ordered vocabulary words. Get the last two digits of your index and give words and corresponding TF values indexed in the places represented by last two digits. For example if your index is 140022X, then you need to give the words and corresponding TF value indexed at 22nd place in the vocabulary.\n",
    "\n",
    "* My index - 1407**01**M, therefore term indexed at 1st position in each document when terms in sorted order."
   ]
  },
  {
   "cell_type": "code",
   "execution_count": 48,
   "metadata": {},
   "outputs": [],
   "source": [
    "index = int(admission_no[4:6])"
   ]
  },
  {
   "cell_type": "code",
   "execution_count": 43,
   "metadata": {},
   "outputs": [
    {
     "name": "stdout",
     "output_type": "stream",
     "text": [
      "document1:ability,2.041\n",
      "document2:abdicate,1.301\n",
      "document3:abide,1.000\n"
     ]
    }
   ],
   "source": [
    "answer2 = ''\n",
    "for i in range(3):\n",
    "    answer = answer = 'document%d:%s,%.3f' % (i + 1, collection_stat[i].iloc[index, 0], collection_stat[i].iloc[index, 2])\n",
    "    print(answer)\n",
    "    if(i < 2):\n",
    "        answer2 += answer + '\\n'\n",
    "    else:\n",
    "        answer2 += answer"
   ]
  },
  {
   "cell_type": "markdown",
   "metadata": {},
   "source": [
    "### Question 3\n",
    "Find the IDF value for all alphabetically ordered vocabulary words. Get the last two digits of your index and give words and corresponding IDF values indexed in the places represented by last two digits. For example if your index is 140022X, then you need to give the words and corresponding IDF value indexed at 22nd place in the vocabulary.\n",
    "\n",
    "* My index - 1407**01**M, therefore term indexed at 1st position in each document when terms in sorted order."
   ]
  },
  {
   "cell_type": "code",
   "execution_count": 44,
   "metadata": {},
   "outputs": [
    {
     "name": "stdout",
     "output_type": "stream",
     "text": [
      "document1:ability,0.000\n",
      "document2:abdicate,0.477\n",
      "document3:abide,0.176\n"
     ]
    }
   ],
   "source": [
    "answer3 = ''\n",
    "for i in range(3):\n",
    "    answer = 'document%d:%s,%.3f' % (i + 1, collection_stat[i].iloc[index,0], collection_stat[i].iloc[index,4]) \n",
    "    print(answer)\n",
    "    if(i < 2):\n",
    "        answer3 += answer + '\\n'\n",
    "    else:\n",
    "        answer3 += answer"
   ]
  },
  {
   "cell_type": "markdown",
   "metadata": {},
   "source": [
    "### Question 4\n",
    "Find and report top 10 word for each document based on TF-IDF values."
   ]
  },
  {
   "cell_type": "code",
   "execution_count": 45,
   "metadata": {},
   "outputs": [
    {
     "name": "stdout",
     "output_type": "stream",
     "text": [
      "document1:corruption,contribution,candidates,political,candidate,election,ban,buckley,closely,corporate\n",
      "document2:ctdep,east,pipeline,islander,water,shellfish,benthic,substrate,installation,habitat\n",
      "document3:rust,prostitution,plaintiffs,velazquez,subsidy,message,recipients,guidelines,representation,taxation\n"
     ]
    }
   ],
   "source": [
    "word_set = []\n",
    "for i in range(3):\n",
    "    words = list(collection_stat[i].sort_values('tf_idf_score', ascending=False).head(10)['term'])\n",
    "    word_set.append(words)\n",
    "\n",
    "answer4 = ''\n",
    "for i in range(3):\n",
    "    answer_a = 'document%d:' % (i + 1)\n",
    "    print(answer_a, end='')\n",
    "    answer4 += answer_a\n",
    "    for j in range(10):\n",
    "        answer_b = word_set[i][j]\n",
    "        if(j < 9):\n",
    "            print(answer_b, end=',')\n",
    "            answer4 += answer_b + ','\n",
    "        else:\n",
    "            print(answer_b)\n",
    "            if(i < 2):\n",
    "                answer4 += answer_b + '\\n'\n",
    "            else:\n",
    "                answer4 += answer_b"
   ]
  },
  {
   "cell_type": "markdown",
   "metadata": {},
   "source": [
    "## Saving Answers\n",
    "* Write into a text file"
   ]
  },
  {
   "cell_type": "code",
   "execution_count": 46,
   "metadata": {},
   "outputs": [],
   "source": [
    "answers = open('answers.txt', 'w')\n",
    "answers.write(admission_no + '\\n')\n",
    "answers.write('1' + '\\n')\n",
    "answers.write(answer1 + '\\n\\n')\n",
    "answers.write('2' + '\\n')\n",
    "answers.write(answer2 + '\\n\\n')\n",
    "answers.write('3' + '\\n')\n",
    "answers.write(answer3 + '\\n\\n')\n",
    "answers.write('4' + '\\n')\n",
    "answers.write(answer4)\n",
    "answers.close()"
   ]
  },
  {
   "cell_type": "code",
   "execution_count": null,
   "metadata": {},
   "outputs": [],
   "source": []
  }
 ],
 "metadata": {
  "kernelspec": {
   "display_name": "Python 3",
   "language": "python",
   "name": "python3"
  },
  "language_info": {
   "codemirror_mode": {
    "name": "ipython",
    "version": 3
   },
   "file_extension": ".py",
   "mimetype": "text/x-python",
   "name": "python",
   "nbconvert_exporter": "python",
   "pygments_lexer": "ipython3",
   "version": "3.6.5"
  }
 },
 "nbformat": 4,
 "nbformat_minor": 2
}
